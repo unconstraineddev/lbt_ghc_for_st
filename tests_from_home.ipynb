{
 "cells": [
  {
   "cell_type": "code",
   "execution_count": 1,
   "metadata": {},
   "outputs": [
    {
     "name": "stdout",
     "output_type": "stream",
     "text": [
      "Energy Construction Set: Default Generic Construction Set\n"
     ]
    }
   ],
   "source": [
    "\n",
    "from honeybee_energy.constructionset import ConstructionSet, WallConstructionSet, FloorConstructionSet, \\\n",
    "    RoofCeilingConstructionSet, ApertureConstructionSet, DoorConstructionSet\n",
    "from honeybee_energy.construction.opaque import OpaqueConstruction\n",
    "from honeybee_energy.construction.window import WindowConstruction\n",
    "from honeybee_energy.construction.shade import ShadeConstruction\n",
    "from honeybee_energy.material.opaque import EnergyMaterial\n",
    "from honeybee_energy.material.glazing import EnergyWindowMaterialGlazing\n",
    "from honeybee_energy.material.gas import EnergyWindowMaterialGas\n",
    "\n",
    "from honeybee.face import Face\n",
    "from honeybee.aperture import Aperture\n",
    "from honeybee.shade import Shade\n",
    "from honeybee.room import Room\n",
    "from honeybee.boundarycondition import boundary_conditions, Surface, Outdoors, Ground\n",
    "from honeybee.facetype import face_types\n",
    "\n",
    "from ladybug_geometry.geometry2d.pointvector import Vector2D\n",
    "from ladybug_geometry.geometry3d.pointvector import Point3D, Vector3D\n",
    "from ladybug_geometry.geometry3d.plane import Plane\n",
    "from ladybug_geometry.geometry3d.face import Face3D\n",
    "from ladybug_geometry.geometry3d.polyface import Polyface3D\n",
    "\n",
    "testingset = ConstructionSet('Thermal Mass Construction Set')\n",
    "concrete20 = EnergyMaterial('20cm Concrete', 0.2, 2.31, 2322, 832,\n",
    "                            'MediumRough', 0.95, 0.75, 0.8)\n",
    "concrete10 = EnergyMaterial('10cm Concrete', 0.1, 2.31, 2322, 832,\n",
    "                            'MediumRough', 0.95, 0.75, 0.8)\n",
    "stone_door = EnergyMaterial('Stone Door', 0.05, 2.31, 2322, 832,\n",
    "                            'MediumRough', 0.95, 0.75, 0.8)\n",
    "thick_constr = OpaqueConstruction(\n",
    "    'Thick Concrete Construction', [concrete20])\n",
    "thin_constr = OpaqueConstruction(\n",
    "    'Thin Concrete Construction', [concrete10])\n",
    "door_constr = OpaqueConstruction(\n",
    "    'Stone Door', [stone_door])\n",
    "light_shelf = ShadeConstruction('Light Shelf', 0.5, 0.5, True)\n",
    "\n",
    "room = Room.from_box('ZoneSHOE_BOX920980', 5, 10, 3, 90, Point3D(0, 0, 3))\n",
    "\n",
    "\n",
    "print(room.properties.energy.construction_set)\n",
    "\n"
   ]
  },
  {
   "cell_type": "code",
   "execution_count": 2,
   "metadata": {},
   "outputs": [
    {
     "ename": "AssertionError",
     "evalue": "Expected ConstructionSet. Got <class 'honeybee_energy.construction.opaque.OpaqueConstruction'>",
     "output_type": "error",
     "traceback": [
      "\u001b[1;31m---------------------------------------------------------------------------\u001b[0m",
      "\u001b[1;31mAssertionError\u001b[0m                            Traceback (most recent call last)",
      "Cell \u001b[1;32mIn [2], line 3\u001b[0m\n\u001b[0;32m      1\u001b[0m \u001b[38;5;28;01mfrom\u001b[39;00m \u001b[38;5;21;01mhb_energy_st\u001b[39;00m\u001b[38;5;21;01m.\u001b[39;00m\u001b[38;5;21;01mone_constructions\u001b[39;00m \u001b[38;5;28;01mimport\u001b[39;00m hb_apply_construction_set\n\u001b[1;32m----> 3\u001b[0m new_room \u001b[38;5;241m=\u001b[39m \u001b[43mhb_apply_construction_set\u001b[49m\u001b[43m(\u001b[49m\u001b[43m[\u001b[49m\u001b[43mroom\u001b[49m\u001b[43m]\u001b[49m\u001b[43m,\u001b[49m\u001b[43m \u001b[49m\u001b[43mthick_constr\u001b[49m\u001b[43m)\u001b[49m\n\u001b[0;32m      4\u001b[0m \u001b[38;5;28mprint\u001b[39m(new_room\u001b[38;5;241m.\u001b[39mproperties\u001b[38;5;241m.\u001b[39menrgy\u001b[38;5;241m.\u001b[39mconstruction_set)\n",
      "File \u001b[1;32md:\\_a_UNCONSTRAINED_DEVELOPMENT_LLC\\__In_house_repos\\lbt_ghc_for_st\\hb_energy_st\\one_constructions.py:17\u001b[0m, in \u001b[0;36mhb_apply_construction_set\u001b[1;34m(_rooms, _constr_set)\u001b[0m\n\u001b[0;32m      7\u001b[0m \u001b[39m\"\"\"_summary_\u001b[39;00m\n\u001b[0;32m      8\u001b[0m \n\u001b[0;32m      9\u001b[0m \u001b[39mArgs:\u001b[39;00m\n\u001b[1;32m   (...)\u001b[0m\n\u001b[0;32m     14\u001b[0m \u001b[39m    list: _description_\u001b[39;00m\n\u001b[0;32m     15\u001b[0m \u001b[39m\"\"\"\u001b[39;00m\n\u001b[0;32m     16\u001b[0m \u001b[39mfor\u001b[39;00m rm \u001b[39min\u001b[39;00m _rooms:\n\u001b[1;32m---> 17\u001b[0m     rm\u001b[39m.\u001b[39;49mproperties\u001b[39m.\u001b[39;49menergy\u001b[39m.\u001b[39;49mconstruction_set \u001b[39m=\u001b[39m _constr_set\n\u001b[0;32m     19\u001b[0m \u001b[39mreturn\u001b[39;00m _rooms\n",
      "File \u001b[1;32md:\\_a_UNCONSTRAINED_DEVELOPMENT_LLC\\__In_house_repos\\lbt_ghc_for_st\\.env\\lib\\site-packages\\honeybee_energy\\properties\\room.py:153\u001b[0m, in \u001b[0;36mRoomEnergyProperties.construction_set\u001b[1;34m(self, value)\u001b[0m\n\u001b[0;32m    150\u001b[0m \u001b[39m@construction_set\u001b[39m\u001b[39m.\u001b[39msetter\n\u001b[0;32m    151\u001b[0m \u001b[39mdef\u001b[39;00m \u001b[39mconstruction_set\u001b[39m(\u001b[39mself\u001b[39m, value):\n\u001b[0;32m    152\u001b[0m     \u001b[39mif\u001b[39;00m value \u001b[39mis\u001b[39;00m \u001b[39mnot\u001b[39;00m \u001b[39mNone\u001b[39;00m:\n\u001b[1;32m--> 153\u001b[0m         \u001b[39massert\u001b[39;00m \u001b[39misinstance\u001b[39m(value, ConstructionSet), \\\n\u001b[0;32m    154\u001b[0m             \u001b[39m'\u001b[39m\u001b[39mExpected ConstructionSet. Got \u001b[39m\u001b[39m{}\u001b[39;00m\u001b[39m'\u001b[39m\u001b[39m.\u001b[39mformat(\u001b[39mtype\u001b[39m(value))\n\u001b[0;32m    155\u001b[0m         value\u001b[39m.\u001b[39mlock()   \u001b[39m# lock in case construction set has multiple references\u001b[39;00m\n\u001b[0;32m    156\u001b[0m     \u001b[39mself\u001b[39m\u001b[39m.\u001b[39m_construction_set \u001b[39m=\u001b[39m value\n",
      "\u001b[1;31mAssertionError\u001b[0m: Expected ConstructionSet. Got <class 'honeybee_energy.construction.opaque.OpaqueConstruction'>"
     ]
    }
   ],
   "source": [
    "from hb_energy_st.one_constructions import hb_apply_construction_set\n",
    "\n",
    "new_room = hb_apply_construction_set([room], thick_constr)\n",
    "print(new_room.properties.enrgy.construction_set)"
   ]
  },
  {
   "cell_type": "code",
   "execution_count": null,
   "metadata": {},
   "outputs": [],
   "source": []
  }
 ],
 "metadata": {
  "kernelspec": {
   "display_name": "Python 3.9.5 ('.env': venv)",
   "language": "python",
   "name": "python3"
  },
  "language_info": {
   "codemirror_mode": {
    "name": "ipython",
    "version": 3
   },
   "file_extension": ".py",
   "mimetype": "text/x-python",
   "name": "python",
   "nbconvert_exporter": "python",
   "pygments_lexer": "ipython3",
   "version": "3.9.5"
  },
  "orig_nbformat": 4,
  "vscode": {
   "interpreter": {
    "hash": "63a36ac878fa25fb1c7f63a54e20a44eb7b2b0c34c2beed72bfab92e57d864e8"
   }
  }
 },
 "nbformat": 4,
 "nbformat_minor": 2
}
