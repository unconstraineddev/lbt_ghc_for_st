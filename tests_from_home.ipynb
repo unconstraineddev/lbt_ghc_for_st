{
 "cells": [
  {
   "cell_type": "code",
   "execution_count": 1,
   "metadata": {},
   "outputs": [
    {
     "name": "stdout",
     "output_type": "stream",
     "text": [
      "Energy Construction Set: Default Generic Construction Set\n"
     ]
    }
   ],
   "source": [
    "\n",
    "from honeybee_energy.constructionset import ConstructionSet, WallConstructionSet, FloorConstructionSet, \\\n",
    "    RoofCeilingConstructionSet, ApertureConstructionSet, DoorConstructionSet\n",
    "from honeybee_energy.construction.opaque import OpaqueConstruction\n",
    "from honeybee_energy.construction.window import WindowConstruction\n",
    "from honeybee_energy.construction.shade import ShadeConstruction\n",
    "from honeybee_energy.material.opaque import EnergyMaterial\n",
    "from honeybee_energy.material.glazing import EnergyWindowMaterialGlazing\n",
    "from honeybee_energy.material.gas import EnergyWindowMaterialGas\n",
    "\n",
    "from honeybee.face import Face\n",
    "from honeybee.aperture import Aperture\n",
    "from honeybee.shade import Shade\n",
    "from honeybee.room import Room\n",
    "from honeybee.boundarycondition import boundary_conditions, Surface, Outdoors, Ground\n",
    "from honeybee.facetype import face_types\n",
    "\n",
    "from ladybug_geometry.geometry2d.pointvector import Vector2D\n",
    "from ladybug_geometry.geometry3d.pointvector import Point3D, Vector3D\n",
    "from ladybug_geometry.geometry3d.plane import Plane\n",
    "from ladybug_geometry.geometry3d.face import Face3D\n",
    "from ladybug_geometry.geometry3d.polyface import Polyface3D\n",
    "\n",
    "testingset = ConstructionSet('Thermal Mass Construction Set')\n",
    "concrete20 = EnergyMaterial('20cm Concrete', 0.2, 2.31, 2322, 832,\n",
    "                            'MediumRough', 0.95, 0.75, 0.8)\n",
    "concrete10 = EnergyMaterial('10cm Concrete', 0.1, 2.31, 2322, 832,\n",
    "                            'MediumRough', 0.95, 0.75, 0.8)\n",
    "stone_door = EnergyMaterial('Stone Door', 0.05, 2.31, 2322, 832,\n",
    "                            'MediumRough', 0.95, 0.75, 0.8)\n",
    "thick_constr = OpaqueConstruction(\n",
    "    'Thick Concrete Construction', [concrete20])\n",
    "thin_constr = OpaqueConstruction(\n",
    "    'Thin Concrete Construction', [concrete10])\n",
    "door_constr = OpaqueConstruction(\n",
    "    'Stone Door', [stone_door])\n",
    "light_shelf = ShadeConstruction('Light Shelf', 0.5, 0.5, True)\n",
    "\n",
    "roomy = Room.from_box('ZoneSHOE', 5, 10, 3, 90, Point3D(0, 0, 3))\n",
    "room1 = Room.from_box('ZoneBOX', 5, 10, 3, 90, Point3D(0, 0, 3))\n",
    "\n",
    "\n",
    "\n",
    "print(roomy.properties.energy.construction_set)"
   ]
  },
  {
   "cell_type": "code",
   "execution_count": 2,
   "metadata": {},
   "outputs": [
    {
     "name": "stdout",
     "output_type": "stream",
     "text": [
      "Energy Construction Set: Thermal Mass Construction Set\n",
      "Energy Construction Set: Thermal Mass Construction Set\n"
     ]
    }
   ],
   "source": [
    "from hb_energy_st.one_constructions import hb_apply_construction_set\n",
    "\n",
    "new_rooms = hb_apply_construction_set([roomy, room1], testingset)\n",
    "for room in new_rooms:\n",
    "    print(room.properties.energy.construction_set)"
   ]
  },
  {
   "cell_type": "code",
   "execution_count": 1,
   "metadata": {},
   "outputs": [
    {
     "ename": "NameError",
     "evalue": "name '_name_' is not defined",
     "output_type": "error",
     "traceback": [
      "\u001b[1;31m---------------------------------------------------------------------------\u001b[0m",
      "\u001b[1;31mNameError\u001b[0m                                 Traceback (most recent call last)",
      "Cell \u001b[1;32mIn [1], line 3\u001b[0m\n\u001b[0;32m      1\u001b[0m \u001b[38;5;28;01mfrom\u001b[39;00m \u001b[38;5;21;01mhb_energy_st\u001b[39;00m\u001b[38;5;21;01m.\u001b[39;00m\u001b[38;5;21;01mone_constructions\u001b[39;00m \u001b[38;5;28;01mimport\u001b[39;00m hb_opaque_mat\n\u001b[1;32m----> 3\u001b[0m my_mat \u001b[38;5;241m=\u001b[39m \u001b[43mhb_opaque_mat\u001b[49m\u001b[43m(\u001b[49m\u001b[43m_name\u001b[49m\u001b[38;5;241;43m=\u001b[39;49m\u001b[38;5;124;43m'\u001b[39;49m\u001b[38;5;124;43mhimat\u001b[39;49m\u001b[38;5;124;43m'\u001b[39;49m\u001b[43m,\u001b[49m\u001b[43m \u001b[49m\u001b[43m_thickness\u001b[49m\u001b[38;5;241;43m=\u001b[39;49m\u001b[38;5;241;43m0.123\u001b[39;49m\u001b[43m,\u001b[49m\u001b[43m \u001b[49m\u001b[43m_cond\u001b[49m\u001b[38;5;241;43m=\u001b[39;49m\u001b[38;5;241;43m0.04\u001b[39;49m\u001b[43m,\u001b[49m\u001b[43m \u001b[49m\u001b[43m_density\u001b[49m\u001b[38;5;241;43m=\u001b[39;49m\u001b[38;5;241;43m100\u001b[39;49m\u001b[43m,\u001b[49m\u001b[43m \u001b[49m\u001b[43m_spec_heat\u001b[49m\u001b[38;5;241;43m=\u001b[39;49m\u001b[38;5;241;43m42069\u001b[39;49m\u001b[43m)\u001b[49m\n",
      "File \u001b[1;32md:\\_a_UNCONSTRAINED_DEVELOPMENT_LLC\\__In_house_repos\\lbt_ghc_for_st\\hb_energy_st\\one_constructions.py:35\u001b[0m, in \u001b[0;36mhb_opaque_mat\u001b[1;34m(_name, _thickness, _cond, _density, _spec_heat, _roughness_, _therm_absp_, _sol_absp_, _vis_absp_)\u001b[0m\n\u001b[0;32m     33\u001b[0m _therm_absp_ \u001b[39m=\u001b[39m \u001b[39m0.9\u001b[39m \u001b[39mif\u001b[39;00m _therm_absp_ \u001b[39mis\u001b[39;00m \u001b[39mNone\u001b[39;00m \u001b[39melse\u001b[39;00m _therm_absp_\n\u001b[0;32m     34\u001b[0m _sol_absp_ \u001b[39m=\u001b[39m \u001b[39m0.7\u001b[39m \u001b[39mif\u001b[39;00m _sol_absp_ \u001b[39mis\u001b[39;00m \u001b[39mNone\u001b[39;00m \u001b[39melse\u001b[39;00m _sol_absp_\n\u001b[1;32m---> 35\u001b[0m name \u001b[39m=\u001b[39m clean_and_id_ep_string(\u001b[39m'\u001b[39m\u001b[39mOpaqueMaterial\u001b[39m\u001b[39m'\u001b[39m) \u001b[39mif\u001b[39;00m _name_ \u001b[39mis\u001b[39;00m \u001b[39mNone\u001b[39;00m \u001b[39melse\u001b[39;00m \\\n\u001b[0;32m     36\u001b[0m     clean_ep_string(_name_)\n\u001b[0;32m     38\u001b[0m \u001b[39m# create the material\u001b[39;00m\n\u001b[0;32m     39\u001b[0m mat \u001b[39m=\u001b[39m EnergyMaterial(\n\u001b[0;32m     40\u001b[0m     name, _thickness, _conductivity, _density, _spec_heat, _roughness_,\n\u001b[0;32m     41\u001b[0m     _therm_absp_, _sol_absp_, _vis_absp_)\n",
      "\u001b[1;31mNameError\u001b[0m: name '_name_' is not defined"
     ]
    }
   ],
   "source": [
    "from hb_energy_st.one_constructions import hb_opaque_mat\n",
    "#* See its okay if it doesn't work you just debug and fix it!\n",
    "my_mat = hb_opaque_mat(_name='himat', _thickness=0.123, _cond=0.04, _density=100, _spec_heat=42069)"
   ]
  },
  {
   "cell_type": "code",
   "execution_count": null,
   "metadata": {},
   "outputs": [],
   "source": []
  }
 ],
 "metadata": {
  "kernelspec": {
   "display_name": "Python 3.9.5 ('.env': venv)",
   "language": "python",
   "name": "python3"
  },
  "language_info": {
   "codemirror_mode": {
    "name": "ipython",
    "version": 3
   },
   "file_extension": ".py",
   "mimetype": "text/x-python",
   "name": "python",
   "nbconvert_exporter": "python",
   "pygments_lexer": "ipython3",
   "version": "3.9.5"
  },
  "orig_nbformat": 4,
  "vscode": {
   "interpreter": {
    "hash": "63a36ac878fa25fb1c7f63a54e20a44eb7b2b0c34c2beed72bfab92e57d864e8"
   }
  }
 },
 "nbformat": 4,
 "nbformat_minor": 2
}
