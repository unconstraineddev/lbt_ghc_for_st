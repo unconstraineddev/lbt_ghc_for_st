{
 "cells": [
  {
   "cell_type": "code",
   "execution_count": 1,
   "metadata": {},
   "outputs": [
    {
     "name": "stdout",
     "output_type": "stream",
     "text": [
      "Energy Construction Set: Default Generic Construction Set\n"
     ]
    }
   ],
   "source": [
    "\n",
    "from honeybee_energy.constructionset import ConstructionSet, WallConstructionSet, FloorConstructionSet, \\\n",
    "    RoofCeilingConstructionSet, ApertureConstructionSet, DoorConstructionSet\n",
    "from honeybee_energy.construction.opaque import OpaqueConstruction\n",
    "from honeybee_energy.construction.window import WindowConstruction\n",
    "from honeybee_energy.construction.shade import ShadeConstruction\n",
    "from honeybee_energy.material.opaque import EnergyMaterial\n",
    "from honeybee_energy.material.glazing import EnergyWindowMaterialGlazing\n",
    "from honeybee_energy.material.gas import EnergyWindowMaterialGas\n",
    "\n",
    "from honeybee.face import Face\n",
    "from honeybee.aperture import Aperture\n",
    "from honeybee.shade import Shade\n",
    "from honeybee.room import Room\n",
    "from honeybee.boundarycondition import boundary_conditions, Surface, Outdoors, Ground\n",
    "from honeybee.facetype import face_types\n",
    "\n",
    "from ladybug_geometry.geometry2d.pointvector import Vector2D\n",
    "from ladybug_geometry.geometry3d.pointvector import Point3D, Vector3D\n",
    "from ladybug_geometry.geometry3d.plane import Plane\n",
    "from ladybug_geometry.geometry3d.face import Face3D\n",
    "from ladybug_geometry.geometry3d.polyface import Polyface3D\n",
    "\n",
    "testingset = ConstructionSet('Thermal Mass Construction Set')\n",
    "concrete20 = EnergyMaterial('20cm Concrete', 0.2, 2.31, 2322, 832,\n",
    "                            'MediumRough', 0.95, 0.75, 0.8)\n",
    "concrete10 = EnergyMaterial('10cm Concrete', 0.1, 2.31, 2322, 832,\n",
    "                            'MediumRough', 0.95, 0.75, 0.8)\n",
    "stone_door = EnergyMaterial('Stone Door', 0.05, 2.31, 2322, 832,\n",
    "                            'MediumRough', 0.95, 0.75, 0.8)\n",
    "thick_constr = OpaqueConstruction(\n",
    "    'Thick Concrete Construction', [concrete20])\n",
    "thin_constr = OpaqueConstruction(\n",
    "    'Thin Concrete Construction', [concrete10])\n",
    "door_constr = OpaqueConstruction(\n",
    "    'Stone Door', [stone_door])\n",
    "light_shelf = ShadeConstruction('Light Shelf', 0.5, 0.5, True)\n",
    "\n",
    "roomy = Room.from_box('ZoneSHOE', 5, 10, 3, 90, Point3D(0, 0, 3))\n",
    "room1 = Room.from_box('ZoneBOX', 5, 10, 3, 90, Point3D(0, 0, 3))\n",
    "\n",
    "\n",
    "\n",
    "print(roomy.properties.energy.construction_set)"
   ]
  },
  {
   "cell_type": "code",
   "execution_count": 2,
   "metadata": {},
   "outputs": [
    {
     "name": "stdout",
     "output_type": "stream",
     "text": [
      "Energy Construction Set: Thermal Mass Construction Set\n",
      "Energy Construction Set: Thermal Mass Construction Set\n"
     ]
    }
   ],
   "source": [
    "from hb_energy_st.one_constructions import hb_apply_construction_set\n",
    "\n",
    "new_rooms = hb_apply_construction_set([roomy, room1], testingset)\n",
    "for room in new_rooms:\n",
    "    print(room.properties.energy.construction_set)"
   ]
  },
  {
   "cell_type": "code",
   "execution_count": 2,
   "metadata": {},
   "outputs": [
    {
     "name": "stdout",
     "output_type": "stream",
     "text": [
      "Material,\n",
      " himat,                    !- name\n",
      " MediumRough,              !- roughness\n",
      " 0.123,                    !- thickness {m}\n",
      " 0.04,                     !- conductivity {W/m-K}\n",
      " 100.0,                    !- density {kg/m3}\n",
      " 42069.0,                  !- specific heat {J/kg-K}\n",
      " 0.9,                      !- thermal absorptance\n",
      " 0.7,                      !- solar absorptance\n",
      " 0.7;                      !- visible absorptance\n"
     ]
    }
   ],
   "source": [
    "from hb_energy_st.one_constructions import hb_opaque_mat\n",
    "#* See its okay if it doesn't work you just debug and fix it!\n",
    "my_mat = hb_opaque_mat(_name='himat', _thickness=0.123, _cond=0.04, _density=100, _spec_heat=42069)\n",
    "print(my_mat)"
   ]
  },
  {
   "cell_type": "code",
   "execution_count": 2,
   "metadata": {},
   "outputs": [
    {
     "name": "stdout",
     "output_type": "stream",
     "text": [
      "WindowMaterial:Glazing,\n",
      " HiMatImGlass,             !- name\n",
      " SpectralAverage,          !- optical data type\n",
      " ,                         !- spectral data set name\n",
      " 0.123,                    !- thickness {m}\n",
      " 0.85,                     !- solar transmittance\n",
      " 0.075,                    !- solar reflectance front\n",
      " 0.075,                    !- solar reflectance back\n",
      " 0.85,                     !- visible transmittance\n",
      " 0.075,                    !- visible reflectance front\n",
      " 0.075,                    !- visible reflectance back\n",
      " 0.0,                      !- infrared_transmittance\n",
      " 0.84,                     !- emissivity front\n",
      " 0.84,                     !- emissivity back\n",
      " 0.9,                      !- conductivity {W/m-K}\n",
      " 1.0,                      !- dirt correction factor\n",
      " No;                       !- solar diffusing\n"
     ]
    }
   ],
   "source": [
    "from hb_energy_st.one_constructions import hb_glass_mat\n",
    "my_mat = hb_glass_mat(_name='HiMatImGlass', _thickness=0.123)\n",
    "print(my_mat)\n",
    "\n"
   ]
  },
  {
   "cell_type": "code",
   "execution_count": null,
   "metadata": {},
   "outputs": [],
   "source": []
  }
 ],
 "metadata": {
  "kernelspec": {
   "display_name": "Python 3.9.5 ('.env': venv)",
   "language": "python",
   "name": "python3"
  },
  "language_info": {
   "codemirror_mode": {
    "name": "ipython",
    "version": 3
   },
   "file_extension": ".py",
   "mimetype": "text/x-python",
   "name": "python",
   "nbconvert_exporter": "python",
   "pygments_lexer": "ipython3",
   "version": "3.9.5"
  },
  "orig_nbformat": 4,
  "vscode": {
   "interpreter": {
    "hash": "63a36ac878fa25fb1c7f63a54e20a44eb7b2b0c34c2beed72bfab92e57d864e8"
   }
  }
 },
 "nbformat": 4,
 "nbformat_minor": 2
}
